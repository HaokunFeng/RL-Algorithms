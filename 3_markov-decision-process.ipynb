{
 "cells": [
  {
   "cell_type": "code",
   "execution_count": 2,
   "id": "6d654cac",
   "metadata": {},
   "outputs": [],
   "source": [
    "import numpy as np"
   ]
  },
  {
   "cell_type": "code",
   "execution_count": 3,
   "id": "72864d4b",
   "metadata": {},
   "outputs": [
    {
     "name": "stdout",
     "output_type": "stream",
     "text": [
      "Return G for the chain [1, 2, 3, 6] starting at index 0: -2.5\n"
     ]
    }
   ],
   "source": [
    "np.random.seed(0)\n",
    "P = [\n",
    "    [0.9, 0.1, 0.0, 0.0, 0.0, 0.0],\n",
    "    [0.5, 0.0, 0.5, 0.0, 0.0, 0.0],\n",
    "    [0.0, 0.0, 0.0, 0.6, 0.0, 0.4],\n",
    "    [0.0, 0.0, 0.0, 0.0, 0.3, 0.7],\n",
    "    [0.0, 0.2, 0.3, 0.5, 0.0, 0.0],\n",
    "    [0.0, 0.0, 0.0, 0.0, 0.0, 1.0]\n",
    "]\n",
    "P = np.array(P)\n",
    "rewards = [-1, -2, -2, 10, 1, 0]\n",
    "gamma = 0.5\n",
    "\n",
    "def compute_return(start_index, chain, gamma):\n",
    "    G = 0\n",
    "    for i in reversed(range(start_index, len(chain))):\n",
    "        G = rewards[chain[i] - 1] + gamma * G\n",
    "    return G\n",
    "\n",
    "chain = [1, 2, 3, 6]\n",
    "start_index = 0\n",
    "G = compute_return(start_index, chain, gamma)\n",
    "print(f\"Return G for the chain {chain} starting at index {start_index}: {G}\")\n"
   ]
  },
  {
   "cell_type": "code",
   "execution_count": 4,
   "id": "24ff1d82",
   "metadata": {},
   "outputs": [
    {
     "name": "stdout",
     "output_type": "stream",
     "text": [
      "Each state's value of MRP\n",
      " [[-2.01950168]\n",
      " [-2.21451846]\n",
      " [ 1.16142785]\n",
      " [10.53809283]\n",
      " [ 3.58728554]\n",
      " [ 0.        ]]\n"
     ]
    }
   ],
   "source": [
    "def compute(P, rewards, gamma, states_num):\n",
    "    rewards = np.array(rewards).reshape((-1, 1))\n",
    "    value = np.dot(np.linalg.inv(np.eye(states_num) - gamma * P), rewards)\n",
    "    return value\n",
    "\n",
    "V = compute(P, rewards, gamma, len(P))\n",
    "print(\"Each state's value of MRP\\n\", V)"
   ]
  },
  {
   "cell_type": "code",
   "execution_count": 5,
   "id": "9dd115f8",
   "metadata": {},
   "outputs": [],
   "source": [
    "# State Set\n",
    "S = [\"s1\", \"s2\", \"s3\", \"s4\", \"s5\"]\n",
    "\n",
    "# Action Set\n",
    "A = [\"stay in s1\", \"go to s1\", \"go to s2\", \"go to s3\", \"go to s4\", \"go to s5\", \"probably go to s2/s3/s4\"]\n",
    "\n",
    "# State Transition Function, P(s'|s,a)\n",
    "P = {\n",
    "    \"s1-stay in s1-s1\": 1.0,\n",
    "    \"s1-go to s2-s2\": 1.0,\n",
    "    \"s2-go to s1-s1\": 1.0,\n",
    "    \"s2-go to s3-s3\": 1.0,\n",
    "    \"s3-go to s4-s4\": 1.0,\n",
    "    \"s3-go to s5-s5\": 1.0,\n",
    "    \"s4-go to s5-s5\": 1.0,\n",
    "    \"s4-probably go to s2/s3/s4-s2\": 0.2,\n",
    "    \"s4-probably go to s2/s3/s4-s3\": 0.4,\n",
    "    \"s4-probably go to s2/s3/s4-s4\": 0.4,\n",
    "}\n",
    "\n",
    "# Reward Function, R(s,a)\n",
    "R = {\n",
    "    \"s1-stay in s1\": -1,\n",
    "    \"s1-go to s2\": 0,\n",
    "    \"s2-go to s1\": -1,\n",
    "    \"s2-go to s3\": -2,\n",
    "    \"s3-go to s4\": -2,\n",
    "    \"s3-go to s5\": 0,\n",
    "    \"s4-go to s5\": 10,\n",
    "    \"s4-probably go to s2/s3/s4\": 1\n",
    "}\n",
    "\n",
    "# Discount Factor\n",
    "gamma = 0.5\n",
    "\n",
    "MDP = (S, A, P, R, gamma)\n",
    "\n",
    "# Policy 1, random policy\n",
    "Pi_1 = {\n",
    "    \"s1-stay in s1\": 0.5,\n",
    "    \"s1-go to s2\": 0.5,\n",
    "    \"s2-go to s1\": 0.5,\n",
    "    \"s2-go to s3\": 0.5,\n",
    "    \"s3-go to s4\": 0.5,\n",
    "    \"s3-go to s5\": 0.5,\n",
    "    \"s4-go to s5\": 0.5,\n",
    "    \"s4-probably go to s2/s3/s4\": 0.5\n",
    "}\n",
    "\n",
    "# Policy 2\n",
    "Pi_2 = {\n",
    "    \"s1-stay in s1\": 0.6,\n",
    "    \"s1-go to s2\": 0.4,\n",
    "    \"s2-go to s1\": 0.3,\n",
    "    \"s2-go to s3\": 0.7,\n",
    "    \"s3-go to s4\": 0.5,\n",
    "    \"s3-go to s5\": 0.5,\n",
    "    \"s4-go to s5\": 0.1,\n",
    "    \"s4-probably go to s2/s3/s4\": 0.9\n",
    "}\n",
    "\n",
    "# connect two strings with '-' to define the P-R variables\n",
    "def join(str1, str2):\n",
    "    return str1 + '-' + str2\n"
   ]
  },
  {
   "cell_type": "code",
   "execution_count": 6,
   "id": "535e42d3",
   "metadata": {},
   "outputs": [
    {
     "name": "stdout",
     "output_type": "stream",
     "text": [
      "Each state value of MDP\n",
      " [[-1.22555411]\n",
      " [-1.67666232]\n",
      " [ 0.51890482]\n",
      " [ 6.0756193 ]\n",
      " [ 0.        ]]\n"
     ]
    }
   ],
   "source": [
    "gamma = 0.5\n",
    "P_from_mdp_to_mrp = [\n",
    "    [0.5, 0.5, 0.0, 0.0, 0.0],\n",
    "    [0.5, 0.0, 0.5, 0.0, 0.0],\n",
    "    [0.0, 0.0, 0.0, 0.5, 0.5],\n",
    "    [0.0, 0.1, 0.2, 0.2, 0.5],\n",
    "    [0.0, 0.0, 0.0, 0.0, 1.0]\n",
    "]\n",
    "P_from_mdp_to_mrp = np.array(P_from_mdp_to_mrp)\n",
    "R_from_mdp_to_mrp = [-0.5, -1.5, -1.0, 5.5, 0.0]\n",
    "\n",
    "V = compute(P_from_mdp_to_mrp, R_from_mdp_to_mrp, gamma, len(P_from_mdp_to_mrp))\n",
    "print(\"Each state value of MDP\\n\", V)"
   ]
  },
  {
   "cell_type": "code",
   "execution_count": 7,
   "id": "e207512d",
   "metadata": {},
   "outputs": [],
   "source": [
    "def sample(MDP, Pi, timestep_max, number):\n",
    "    S, A, P, R, gamma = MDP\n",
    "    episodes = []\n",
    "    for _ in range(number):\n",
    "        episode = []\n",
    "        timestep = 0\n",
    "        s = S[np.random.randint(4)]\n",
    "        while s != \"s5\" and timestep <= timestep_max:\n",
    "            timestep += 1\n",
    "            rand, temp = np.random.rand(), 0\n",
    "            for a_opt in A:\n",
    "                temp += Pi.get(join(s, a_opt), 0)\n",
    "                if temp > rand:\n",
    "                    a = a_opt\n",
    "                    r = R.get(join(s, a), 0)\n",
    "                    break\n",
    "            \n",
    "            rand, temp = np.random.rand(), 0\n",
    "            for s_opt in S:\n",
    "                temp += P.get(join(join(s, a), s_opt), 0)\n",
    "                if temp > rand:\n",
    "                    s_next = s_opt\n",
    "                    break\n",
    "            \n",
    "            episode.append((s, a, r, s_next))\n",
    "            s = s_next\n",
    "        episodes.append(episode)\n",
    "    return episodes"
   ]
  },
  {
   "cell_type": "code",
   "execution_count": 8,
   "id": "5a6a37ee",
   "metadata": {},
   "outputs": [
    {
     "name": "stdout",
     "output_type": "stream",
     "text": [
      "Episode 1\n",
      " [('s1', 'go to s2', 0, 's2'), ('s2', 'go to s3', -2, 's3'), ('s3', 'go to s5', 0, 's5')]\n",
      "Episode 2\n",
      " [('s4', 'probably go to s2/s3/s4', 1, 's4'), ('s4', 'go to s5', 10, 's5')]\n",
      "Episode 5\n",
      " [('s2', 'go to s3', -2, 's3'), ('s3', 'go to s4', -2, 's4'), ('s4', 'go to s5', 10, 's5')]\n"
     ]
    }
   ],
   "source": [
    "episodes = sample(MDP, Pi_1, 20, 5)\n",
    "print('Episode 1\\n', episodes[0])\n",
    "print('Episode 2\\n', episodes[1])\n",
    "print('Episode 5\\n', episodes[4])"
   ]
  },
  {
   "cell_type": "code",
   "execution_count": 9,
   "id": "4e62988e",
   "metadata": {},
   "outputs": [],
   "source": [
    "def MC(episodes, V, N, gamma):\n",
    "    for episode in episodes:\n",
    "        G = 0\n",
    "        for i in range(len(episode) - 1, -1, -1):\n",
    "            (s, a, r, s_next) = episode[i]\n",
    "            G = r + gamma * G\n",
    "            N[s] = N[s] + 1\n",
    "            V[s] = V[s] + (G - V[s]) / N[s]\n",
    "        "
   ]
  },
  {
   "cell_type": "code",
   "execution_count": 10,
   "id": "991a9da2",
   "metadata": {},
   "outputs": [
    {
     "name": "stdout",
     "output_type": "stream",
     "text": [
      "state value of MDP with MC\n",
      " {'s1': -1.228923788722258, 's2': -1.6955696284402704, 's3': 0.4823809701532294, 's4': 5.967514743019431, 's5': 0}\n"
     ]
    }
   ],
   "source": [
    "timestep_max = 20\n",
    "episodes = sample(MDP, Pi_1, timestep_max, 1000)\n",
    "gamma = 0.5\n",
    "V = {\"s1\": 0, \"s2\": 0, \"s3\": 0, \"s4\": 0, \"s5\": 0}\n",
    "N = {\"s1\": 0, \"s2\": 0, \"s3\": 0, \"s4\": 0, \"s5\": 0}\n",
    "MC(episodes, V, N, gamma)\n",
    "print(\"state value of MDP with MC\\n\", V)"
   ]
  },
  {
   "cell_type": "code",
   "execution_count": 13,
   "id": "b0de09d3",
   "metadata": {},
   "outputs": [],
   "source": [
    "def occupancy(episodes, s, a, timestep_max, gamma):\n",
    "    \"\"\"Count the number of times (s,a) is visited in the episode to compute the occupancy measure.\"\"\"\n",
    "    rho = 0\n",
    "    total_times = np.zeros(timestep_max)\n",
    "    occur_times = np.zeros(timestep_max)\n",
    "    for episode in episodes:\n",
    "        for i in range(len(episode)):\n",
    "            (s_opt, a_opt, r, s_next) = episode[i]\n",
    "            total_times[i] += 1\n",
    "            if s == s_opt and a == a_opt:\n",
    "                occur_times[i] += 1\n",
    "    for i in reversed(range(timestep_max)):\n",
    "        if total_times[i]:\n",
    "            rho += (gamma ** i) * occur_times[i] / total_times[i]\n",
    "    return (1 - gamma) * rho"
   ]
  },
  {
   "cell_type": "code",
   "execution_count": 14,
   "id": "b6eb6706",
   "metadata": {},
   "outputs": [
    {
     "name": "stdout",
     "output_type": "stream",
     "text": [
      "0.11365220293209718 0.2487246201875158\n"
     ]
    }
   ],
   "source": [
    "gamma = 0.5\n",
    "timestep_max = 1000\n",
    "episodes_1 = sample(MDP, Pi_1, timestep_max, 1000)\n",
    "episodes_2 = sample(MDP, Pi_2, timestep_max, 1000)\n",
    "rho_1 = occupancy(episodes_1, \"s4\", \"probably go to s2/s3/s4\", timestep_max, gamma)\n",
    "rho_2 = occupancy(episodes_2, \"s4\", \"probably go to s2/s3/s4\", timestep_max, gamma)\n",
    "print(rho_1, rho_2)"
   ]
  }
 ],
 "metadata": {
  "kernelspec": {
   "display_name": "base",
   "language": "python",
   "name": "python3"
  },
  "language_info": {
   "codemirror_mode": {
    "name": "ipython",
    "version": 3
   },
   "file_extension": ".py",
   "mimetype": "text/x-python",
   "name": "python",
   "nbconvert_exporter": "python",
   "pygments_lexer": "ipython3",
   "version": "3.10.13"
  }
 },
 "nbformat": 4,
 "nbformat_minor": 5
}
