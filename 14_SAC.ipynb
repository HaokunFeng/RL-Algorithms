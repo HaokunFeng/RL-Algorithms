{
 "cells": [
  {
   "cell_type": "code",
   "execution_count": 4,
   "id": "540839a6",
   "metadata": {},
   "outputs": [],
   "source": [
    "import random\n",
    "import gym\n",
    "import numpy as np\n",
    "from tqdm import tqdm\n",
    "import torch\n",
    "import torch.nn as nn\n",
    "import torch.nn.functional as F\n",
    "import matplotlib.pyplot as plt\n",
    "import rl_utils"
   ]
  },
  {
   "cell_type": "markdown",
   "id": "910b3238",
   "metadata": {},
   "source": [
    "# SAC Continuous"
   ]
  },
  {
   "cell_type": "code",
   "execution_count": null,
   "id": "1433b39d",
   "metadata": {},
   "outputs": [],
   "source": [
    "class PolicyNetContinuous(torch.nn.Module):\n",
    "    def __init__(self, state_dim, hidden_dim, action_dim, action_bound):\n",
    "        super(PolicyNetContinuous, self).__init__()\n",
    "        self.fc1 = nn.Linear(state_dim, hidden_dim)\n",
    "        self.fc_mu = nn.Linear(hidden_dim, action_dim)\n",
    "        self.fc_std = nn.Linear(hidden_dim, action_dim)\n",
    "        self.action_bound = action_bound\n",
    "    \n",
    "    def forward(self, state):\n",
    "        x = F.relu(self.fc1(state))\n",
    "        mu = self.fc_mu(x)\n",
    "        std = F.softplus(self.fc_std(x))\n",
    "        dist = torch.distributions.Normal(mu, std)\n",
    "        normal_sample = dist.rsample()\n",
    "        log_prob = dist.log_prob(normal_sample)\n",
    "        action = torch.tanh(normal_sample)\n",
    "        log_prob = log_prob - torch.log(1 - action.pow(2) + 1e-7)\n",
    "        log_prob = log_prob.sum(dim=-1, keepdim=True)\n",
    "        action = action * self.action_bound\n",
    "        return action, log_prob\n",
    "\n",
    "class QValueNetContinuous(torch.nn.Module):\n",
    "    def __init__(self, state_dim, hidden_dim, action_dim):\n",
    "        super(QValueNetContinuous, self).__init__()\n",
    "        self.net = nn.Sequential(\n",
    "            nn.Linear(state_dim + action_dim, hidden_dim),\n",
    "            nn.ReLU(),\n",
    "            nn.Linear(hidden_dim, hidden_dim),\n",
    "            nn.ReLU(),\n",
    "            nn.Linear(hidden_dim, 1)\n",
    "        )\n",
    "    \n",
    "    def forward(self, state, action):\n",
    "        x = torch.cat([state, action], dim=1)\n",
    "        return self.net(x)\n",
    "    "
   ]
  },
  {
   "cell_type": "code",
   "execution_count": null,
   "id": "c36ea75b",
   "metadata": {},
   "outputs": [],
   "source": [
    "class SACContinuous:\n",
    "    \"\"\" SAC (Soft Actor-Critic) for continuous action spaces \"\"\"\n",
    "    def __init__(self,\n",
    "                 state_dim,\n",
    "                 hidden_dim,\n",
    "                 action_dim,\n",
    "                 action_bound,\n",
    "                 actor_lr,\n",
    "                 critic_lr,\n",
    "                 alpha_lr,\n",
    "                 target_entropy,\n",
    "                 tau,\n",
    "                 gamma,\n",
    "                 device):\n",
    "        self.actor = PolicyNetContinuous(state_dim, hidden_dim, action_dim, action_bound).to(device)\n",
    "        self.critic_1 = QValueNetContinuous(state_dim, hidden_dim, action_dim).to(device)\n",
    "        self.critic_2 = QValueNetContinuous(state_dim, hidden_dim, action_dim).to(device)\n",
    "        self.target_critic_1 = QValueNetContinuous(state_dim, hidden_dim, action_dim).to(device)\n",
    "        self.target_critic_2 = QValueNetContinuous(state_dim, hidden_dim, action_dim).to(device)\n",
    "\n",
    "        self.target_critic_1.load_state_dict(self.critic_1.state_dict())\n",
    "        self.target_critic_2.load_state_dict(self.critic_2.state_dict())\n",
    "\n",
    "        self.actor_optimizer = torch.optim.Adam(self.actor.parameters(), lr=actor_lr)\n",
    "        self.critic_1_optimizer = torch.optim.Adam(self.critic_1.parameters(), lr=critic_lr)\n",
    "        self.critic_2_optimizer = torch.optim.Adam(self.critic_2.parameters(), lr=critic_lr)\n",
    "\n",
    "        self.log_alpha = torch.tensor(np.log(0.01), dtype=torch.float)\n",
    "        self.log_alpha.requires_grad = True\n",
    "        self.log_alpha_optimizer = torch.optim.Adam([self.log_alpha], lr=alpha_lr)\n",
    "\n",
    "        self.target_entropy = target_entropy\n",
    "        self.gamma = gamma\n",
    "        self.tau = tau\n",
    "        self.device = device\n",
    "    \n",
    "    def take_action(self, state):\n",
    "        state = torch.tensor(np.array([state]), dtype=torch.float).to(self.device)\n",
    "        action = self.actor(state)[0]\n",
    "        return [action.item()]\n",
    "    \n",
    "    def calc_target(self, rewards, next_states, dones):\n",
    "        next_actions, log_prob = self.actor(next_states)\n",
    "        entropy = -log_prob\n",
    "        q1_value = self.target_critic_1(next_states, next_actions)\n",
    "        q2_value = self.target_critic_2(next_states, next_actions)\n",
    "        next_value = torch.min(q1_value, q2_value) + self.log_alpha.exp() * entropy\n",
    "        td_target = rewards + self.gamma * next_value * (~dones.bool()).float()\n",
    "        return td_target\n",
    "    \n",
    "    def soft_update(self, net, target_net):\n",
    "        for param, target_param in zip(net.parameters(), target_net.parameters()):\n",
    "            target_param.data.copy_(self.tau * param.data + (1.0 - self.tau) * target_param.data)\n",
    "\n",
    "    def update(self, transition_dict):\n",
    "        torch.autograd.set_detect_anomaly(True)\n",
    "        states = torch.tensor(np.array(transition_dict['states']), dtype=torch.float).to(self.device)\n",
    "        actions = torch.tensor(np.array(transition_dict['actions']), dtype=torch.float).view(-1, 1).to(self.device)\n",
    "        rewards = torch.tensor(np.array(transition_dict['rewards']), dtype=torch.float).view(-1, 1).to(self.device)\n",
    "        next_states = torch.tensor(np.array(transition_dict['next_states']), dtype=torch.float).to(self.device)\n",
    "        dones = torch.tensor(np.array(transition_dict['dones']), dtype=torch.float).view(-1, 1).to(self.device)\n",
    "        rewards = (rewards + 8.0) / 8.0\n",
    "\n",
    "        # Update Critic Net(Two Q-value Net)\n",
    "        td_target = self.calc_target(rewards, next_states, dones)\n",
    "        critic_1_loss = F.mse_loss(self.critic_1(states, actions), td_target.detach())\n",
    "        critic_2_loss = F.mse_loss(self.critic_2(states, actions), td_target.detach())\n",
    "        self.critic_1_optimizer.zero_grad()\n",
    "        critic_1_loss.backward()\n",
    "        self.critic_1_optimizer.step()\n",
    "        self.critic_2_optimizer.zero_grad()\n",
    "        critic_2_loss.backward()\n",
    "        self.critic_2_optimizer.step()\n",
    "\n",
    "        # Update Actor Net (Policy Net)\n",
    "        new_actions, log_prob = self.actor(states)\n",
    "        entropy = -log_prob\n",
    "        q1_value = self.critic_1(states, new_actions)\n",
    "        q2_value = self.critic_2(states, new_actions)\n",
    "        actor_loss = torch.mean(-self.log_alpha.exp() * entropy - torch.min(q1_value, q2_value))\n",
    "        self.actor_optimizer.zero_grad()\n",
    "        actor_loss.backward()\n",
    "        self.actor_optimizer.step()\n",
    "\n",
    "        # Update Alpha\n",
    "        # log_prob_for_alpha = log_prob.detach()\n",
    "        # entropy_for_alpha = -log_prob_for_alpha\n",
    "        alpha_loss = torch.mean((entropy - self.target_entropy).detach() * self.log_alpha.exp())\n",
    "        self.log_alpha_optimizer.zero_grad()\n",
    "        alpha_loss.backward()\n",
    "        self.log_alpha_optimizer.step()\n",
    "\n",
    "        # Soft Update Target Net\n",
    "        self.soft_update(self.critic_1, self.target_critic_1)\n",
    "        self.soft_update(self.critic_2, self.target_critic_2)"
   ]
  },
  {
   "cell_type": "code",
   "execution_count": 40,
   "id": "91e68f2a",
   "metadata": {},
   "outputs": [],
   "source": [
    "env_name = 'Pendulum-v1'\n",
    "env = gym.make(env_name)\n",
    "state_dim = env.observation_space.shape[0]\n",
    "action_dim = env.action_space.shape[0]\n",
    "action_bound = env.action_space.high[0]\n",
    "\n",
    "seed = 0\n",
    "env.reset(seed=seed)\n",
    "env.action_space.seed(seed)\n",
    "random.seed(seed)\n",
    "np.random.seed(seed)\n",
    "torch.manual_seed(seed)\n",
    "\n",
    "actor_lr = 3e-4\n",
    "critic_lr = 3e-3\n",
    "alpha_lr = 3e-4\n",
    "num_episodes = 100\n",
    "hidden_dim = 128\n",
    "gamma = 0.99\n",
    "tau = 0.005\n",
    "buffer_size = 100000\n",
    "minimal_size = 1000\n",
    "batch_size = 64\n",
    "target_entropy = -env.action_space.shape[0]\n",
    "device = torch.device(\"cuda\") if torch.cuda.is_available() else torch.device(\"cpu\")\n",
    "\n",
    "replay_buffer = rl_utils.ReplayBuffer(buffer_size)\n",
    "agent = SACContinuous(state_dim,\n",
    "                      hidden_dim,\n",
    "                      action_dim,\n",
    "                      action_bound,\n",
    "                      actor_lr,\n",
    "                      critic_lr,\n",
    "                      alpha_lr,\n",
    "                      target_entropy,\n",
    "                      tau,\n",
    "                      gamma,\n",
    "                      device)"
   ]
  },
  {
   "cell_type": "code",
   "execution_count": 41,
   "id": "78930dd1",
   "metadata": {},
   "outputs": [
    {
     "name": "stderr",
     "output_type": "stream",
     "text": [
      "Iteration 0:   0%|          | 0/10 [00:00<?, ?it/s]/home/user/.local/lib/python3.10/site-packages/gym/utils/passive_env_checker.py:233: DeprecationWarning: `np.bool8` is a deprecated alias for `np.bool_`.  (Deprecated NumPy 1.24)\n",
      "  if not isinstance(terminated, (bool, np.bool8)):\n",
      "Iteration 0: 100%|██████████| 10/10 [00:21<00:00,  2.20s/it, episode=10, return=-1526.066]\n",
      "Iteration 1: 100%|██████████| 10/10 [00:37<00:00,  3.74s/it, episode=20, return=-861.160]\n",
      "Iteration 2: 100%|██████████| 10/10 [00:37<00:00,  3.73s/it, episode=30, return=-226.734]\n",
      "Iteration 3: 100%|██████████| 10/10 [00:37<00:00,  3.78s/it, episode=40, return=-143.080]\n",
      "Iteration 4: 100%|██████████| 10/10 [00:38<00:00,  3.86s/it, episode=50, return=-182.605]\n",
      "Iteration 5: 100%|██████████| 10/10 [00:39<00:00,  3.92s/it, episode=60, return=-141.200]\n",
      "Iteration 6: 100%|██████████| 10/10 [00:38<00:00,  3.86s/it, episode=70, return=-160.446]\n",
      "Iteration 7: 100%|██████████| 10/10 [00:37<00:00,  3.76s/it, episode=80, return=-198.554]\n",
      "Iteration 8: 100%|██████████| 10/10 [00:37<00:00,  3.72s/it, episode=90, return=-160.033]\n",
      "Iteration 9: 100%|██████████| 10/10 [00:37<00:00,  3.78s/it, episode=100, return=-230.129]\n"
     ]
    }
   ],
   "source": [
    "return_list = rl_utils.train_off_policy_agent(env,\n",
    "                                              agent,\n",
    "                                              num_episodes,\n",
    "                                              replay_buffer,\n",
    "                                              minimal_size,\n",
    "                                              batch_size)"
   ]
  },
  {
   "cell_type": "code",
   "execution_count": 42,
   "id": "c938dfc7",
   "metadata": {},
   "outputs": [
    {
     "data": {
      "image/png": "[encoded data removed]",
      "text/plain": [
       "<Figure size 640x480 with 1 Axes>"
      ]
     },
     "metadata": {},
     "output_type": "display_data"
    }
   ],
   "source": [
    "mv_return = rl_utils.moving_average(return_list, 9)\n",
    "plt.plot(return_list, label='Return')\n",
    "plt.plot(mv_return, label='Moving Average Return')\n",
    "plt.legend()\n",
    "plt.xlabel('Episode')\n",
    "plt.ylabel('Return')\n",
    "plt.title('SAC on {}'.format(env_name))\n",
    "plt.show()"
   ]
  },
  {
   "cell_type": "code",
   "execution_count": 43,
   "id": "3eb32a33",
   "metadata": {},
   "outputs": [
    {
     "name": "stdout",
     "output_type": "stream",
     "text": [
      "-230.12911005353513\n"
     ]
    }
   ],
   "source": [
    "score = rl_utils.moving_average_score(return_list)\n",
    "print(score)"
   ]
  },
  {
   "cell_type": "code",
   "execution_count": 44,
   "id": "79263573",
   "metadata": {},
   "outputs": [
    {
     "name": "stderr",
     "output_type": "stream",
     "text": [
      "/home/user/.local/lib/python3.10/site-packages/gym/utils/passive_env_checker.py:233: DeprecationWarning: `np.bool8` is a deprecated alias for `np.bool_`.  (Deprecated NumPy 1.24)\n",
      "  if not isinstance(terminated, (bool, np.bool8)):\n"
     ]
    }
   ],
   "source": [
    "rl_utils.watch_agent(env_name,\n",
    "                     agent,\n",
    "                     device,\n",
    "                     num_episodes=1)"
   ]
  },
  {
   "cell_type": "code",
   "execution_count": 45,
   "id": "1dc02e65",
   "metadata": {},
   "outputs": [
    {
     "name": "stderr",
     "output_type": "stream",
     "text": [
      "/home/user/.local/lib/python3.10/site-packages/gym/utils/passive_env_checker.py:233: DeprecationWarning: `np.bool8` is a deprecated alias for `np.bool_`.  (Deprecated NumPy 1.24)\n",
      "  if not isinstance(terminated, (bool, np.bool8)):\n"
     ]
    },
    {
     "name": "stdout",
     "output_type": "stream",
     "text": [
      "MoviePy - Building file ./video/sac_pendulum(v1)_r1_score-230.13_20250503-060114.gif with imageio.\n"
     ]
    },
    {
     "name": "stderr",
     "output_type": "stream",
     "text": [
      "                                                                         \r"
     ]
    },
    {
     "name": "stdout",
     "output_type": "stream",
     "text": [
      "✅ Video saved at ./video/sac_pendulum(v1)_r1_score-230.13_20250503-060114.gif\n",
      "MoviePy - Building file ./video/sac_pendulum(v1)_r10_score-230.13_20250503-060118.gif with imageio.\n"
     ]
    },
    {
     "name": "stderr",
     "output_type": "stream",
     "text": [
      "                                                                        \r"
     ]
    },
    {
     "name": "stdout",
     "output_type": "stream",
     "text": [
      "✅ Video saved at ./video/sac_pendulum(v1)_r10_score-230.13_20250503-060118.gif\n"
     ]
    }
   ],
   "source": [
    "rl_utils.record_multiple_episodes(env_name,\n",
    "                                  agent,\n",
    "                                  device,\n",
    "                                  num_episodes=1,\n",
    "                                  videos_per_row=1,\n",
    "                                  filename='sac_pendulum(v1)_r1',\n",
    "                                  score=score)\n",
    "rl_utils.record_multiple_episodes(env_name,\n",
    "                                  agent,\n",
    "                                  device,\n",
    "                                  num_episodes=10,\n",
    "                                  videos_per_row=5,\n",
    "                                  filename='sac_pendulum(v1)_r10',\n",
    "                                  score=score)"
   ]
  },
  {
   "cell_type": "code",
   "execution_count": 47,
   "id": "a6b661b6",
   "metadata": {},
   "outputs": [
    {
     "name": "stdout",
     "output_type": "stream",
     "text": [
      "✅ Multi-agents saved at ./agent/sac_pendulum(v1)_score-230.13_20250503-060454.pth\n",
      "📝 Save log updated at ./agent/save_log.json\n",
      "✅ Return list saved at ./results/sac_pendulum(v1)_score-230.13_20250503-060454_return_list.pkl\n",
      "📈 Return curve saved at ./results/sac_pendulum(v1)_score-230.13_20250503-060454_return_curve.png\n"
     ]
    }
   ],
   "source": [
    "agent_dict = {\n",
    "    'actor': agent.actor,\n",
    "    'critic_1': agent.critic_1,\n",
    "    'critic_2': agent.critic_2,\n",
    "    'target_critic_1': agent.target_critic_1,\n",
    "    'target_critic_2': agent.target_critic_2\n",
    "}\n",
    "rl_utils.save_all(agent_dict=agent_dict,\n",
    "                  return_list=return_list,\n",
    "                  model_name='sac_pendulum(v1)',\n",
    "                  mv_return=mv_return,\n",
    "                  score=score)"
   ]
  },
  {
   "cell_type": "markdown",
   "id": "3b042040",
   "metadata": {},
   "source": [
    "# SAC Discrete"
   ]
  },
  {
   "cell_type": "code",
   "execution_count": 5,
   "id": "afd8a074",
   "metadata": {},
   "outputs": [],
   "source": [
    "class PolicyNet(torch.nn.Module):\n",
    "    def __init__(self, state_dim, hidden_dim, action_dim):\n",
    "        super(PolicyNet, self).__init__()\n",
    "        self.net = nn.Sequential(\n",
    "            nn.Linear(state_dim, hidden_dim),\n",
    "            nn.ReLU(),\n",
    "            nn.Linear(hidden_dim, action_dim),\n",
    "            nn.Softmax(dim=1)\n",
    "        )\n",
    "    \n",
    "    def forward(self, state):\n",
    "        return self.net(state)\n",
    "\n",
    "class QValueNet(torch.nn.Module):\n",
    "    def __init__(self, state_dim, hidden_dim, action_dim):\n",
    "        super(QValueNet, self).__init__()\n",
    "        self.net = nn.Sequential(\n",
    "            nn.Linear(state_dim, hidden_dim),\n",
    "            nn.ReLU(),\n",
    "            nn.Linear(hidden_dim, action_dim)\n",
    "        )\n",
    "    \n",
    "    def forward(self, state):\n",
    "        return self.net(state)"
   ]
  },
  {
   "cell_type": "code",
   "execution_count": 6,
   "id": "fba5603d",
   "metadata": {},
   "outputs": [],
   "source": [
    "class SAC:\n",
    "    \"\"\" SAC (Soft Actor-Critic) for discrete action spaces \"\"\"\n",
    "    def __init__(self,\n",
    "                 state_dim,\n",
    "                 hidden_dim,\n",
    "                 action_dim,\n",
    "                 actor_lr,\n",
    "                 critic_lr,\n",
    "                 alpha_lr,\n",
    "                 target_entropy,\n",
    "                 tau,\n",
    "                 gamma,\n",
    "                 device):\n",
    "        \n",
    "        self.actor = PolicyNet(state_dim, hidden_dim, action_dim).to(device)\n",
    "        self.critic_1 = QValueNet(state_dim, hidden_dim, action_dim).to(device)\n",
    "        self.critic_2 = QValueNet(state_dim, hidden_dim, action_dim).to(device)\n",
    "        self.target_critic_1 = QValueNet(state_dim, hidden_dim, action_dim).to(device)\n",
    "        self.target_critic_2 = QValueNet(state_dim, hidden_dim, action_dim).to(device)\n",
    "\n",
    "        self.target_critic_1.load_state_dict(self.critic_1.state_dict())\n",
    "        self.target_critic_2.load_state_dict(self.critic_2.state_dict())\n",
    "\n",
    "        self.actor_optimizer = torch.optim.Adam(self.actor.parameters(), lr=actor_lr)\n",
    "        self.critic_1_optimizer = torch.optim.Adam(self.critic_1.parameters(), lr=critic_lr)\n",
    "        self.critic_2_optimizer = torch.optim.Adam(self.critic_2.parameters(), lr=critic_lr)\n",
    "\n",
    "        self.log_alpha = torch.tensor(np.log(0.01), dtype=torch.float)\n",
    "        self.log_alpha.requires_grad = True\n",
    "        self.log_alpha_optimizer = torch.optim.Adam([self.log_alpha], lr=alpha_lr)\n",
    "\n",
    "        self.target_entropy = target_entropy\n",
    "        self.gamma = gamma \n",
    "        self.tau = tau\n",
    "        self.device = device\n",
    "    \n",
    "    def take_action(self, state):\n",
    "        state = torch.tensor(np.array([state]), dtype=torch.float).to(self.device)\n",
    "        probs = self.actor(state)\n",
    "        action_dist = torch.distributions.Categorical(probs)\n",
    "        action = action_dist.sample()\n",
    "        return action.item()\n",
    "    \n",
    "    def calc_target(self, rewards, next_states, dones):\n",
    "        next_probs = self.actor(next_states)\n",
    "        next_log_probs = torch.log(next_probs + 1e-8)\n",
    "        entropy = -torch.sum(next_probs * next_log_probs, dim=1, keepdim=True)\n",
    "        q1_value = self.target_critic_1(next_states)\n",
    "        q2_value = self.target_critic_2(next_states)\n",
    "        min_qvalue = torch.sum(next_probs * torch.min(q1_value, q2_value), dim=1, keepdim=True)\n",
    "        td_target = rewards + self.gamma * (min_qvalue + self.log_alpha.exp() * entropy) * (~dones.bool()).float()\n",
    "        return td_target\n",
    "    \n",
    "    def soft_update(self, net, target_net):\n",
    "        for param, param_target in zip(net.parameters(), target_net.parameters()):\n",
    "            param_target.data.copy_(self.tau * param.data + (1.0 - self.tau) * param_target.data)\n",
    "        \n",
    "    def update(self, transition_dict):\n",
    "        states = torch.tensor(np.array(transition_dict['states']), dtype=torch.float).to(self.device)\n",
    "        actions = torch.tensor(np.array(transition_dict['actions']), dtype=torch.int64).view(-1, 1).to(self.device)\n",
    "        rewards = torch.tensor(np.array(transition_dict['rewards']), dtype=torch.float).view(-1, 1).to(self.device)\n",
    "        next_states = torch.tensor(np.array(transition_dict['next_states']), dtype=torch.float).to(self.device)\n",
    "        dones =torch.tensor(np.array(transition_dict['dones']), dtype=torch.float).view(-1, 1).to(self.device)\n",
    "\n",
    "        # Update Critic Net(Two Q-value Net)\n",
    "        td_target = self.calc_target(rewards, next_states, dones)\n",
    "        critic_1_loss = F.mse_loss(self.critic_1(states).gather(1, actions), td_target.detach())\n",
    "        critic_2_loss = F.mse_loss(self.critic_2(states).gather(1, actions), td_target.detach())\n",
    "        self.critic_1_optimizer.zero_grad()\n",
    "        critic_1_loss.backward()\n",
    "        self.critic_1_optimizer.step()\n",
    "        self.critic_2_optimizer.zero_grad()\n",
    "        critic_2_loss.backward()\n",
    "        self.critic_2_optimizer.step()\n",
    "\n",
    "        # Update Actor Net (Policy Net)\n",
    "        probs = self.actor(states)\n",
    "        log_probs = torch.log(probs + 1e-8)\n",
    "        entropy = -torch.sum(probs * log_probs, dim=1, keepdim=True)\n",
    "        q1_value = self.critic_1(states)\n",
    "        q2_value = self.critic_2(states)\n",
    "        min_qvalue = torch.sum(probs * torch.min(q1_value, q2_value), dim=1, keepdim=True)\n",
    "        actor_loss = torch.mean(-self.log_alpha.exp() * entropy - min_qvalue)\n",
    "        self.actor_optimizer.zero_grad()\n",
    "        actor_loss.backward()\n",
    "        self.actor_optimizer.step()\n",
    "\n",
    "        # Update Alpha\n",
    "        alpha_loss = torch.mean((entropy - self.target_entropy).detach() * self.log_alpha.exp())\n",
    "        self.log_alpha_optimizer.zero_grad()\n",
    "        alpha_loss.backward()\n",
    "        self.log_alpha_optimizer.step()\n",
    "\n",
    "        # Soft Update Target Net\n",
    "        self.soft_update(self.critic_1, self.target_critic_1)\n",
    "        self.soft_update(self.critic_2, self.target_critic_2)\n"
   ]
  },
  {
   "cell_type": "code",
   "execution_count": null,
   "id": "afcf359a",
   "metadata": {},
   "outputs": [],
   "source": [
    "actor_lr = 1e-3\n",
    "critic_lr = 1e-2\n",
    "alpha_lr = 1e-3\n",
    "num_episodes = 200\n",
    "hidden_dim = 128\n",
    "gamma = 0.98\n",
    "tau = 0.005\n",
    "buffer_size = 10000\n",
    "minimal_size = 500\n",
    "batch_size = 64\n",
    "device = torch.device(\"cuda\") if torch.cuda.is_available() else torch.device(\"cpu\")\n",
    "\n",
    "env_name = 'CartPole-v0'\n",
    "env = gym.make(env_name)\n",
    "\n",
    "seed = 0\n",
    "env.reset(seed=seed)\n",
    "env.action_space.seed(seed)\n",
    "random.seed(seed)\n",
    "np.random.seed(seed)\n",
    "torch.manual_seed(seed)\n",
    "state_dim = env.observation_space.shape[0]\n",
    "action_dim = env.action_space.n\n",
    "target_entropy = -1\n",
    "\n",
    "replay_buffer = rl_utils.ReplayBuffer(buffer_size)\n",
    "agent = SAC(state_dim,\n",
    "            hidden_dim,\n",
    "            action_dim,\n",
    "            actor_lr,\n",
    "            critic_lr,\n",
    "            alpha_lr,\n",
    "            target_entropy,\n",
    "            tau,\n",
    "            gamma,\n",
    "            device)\n"
   ]
  },
  {
   "cell_type": "code",
   "execution_count": 56,
   "id": "77c09ca7",
   "metadata": {},
   "outputs": [
    {
     "name": "stderr",
     "output_type": "stream",
     "text": [
      "Iteration 0: 100%|██████████| 20/20 [00:00<00:00, 223.88it/s, episode=20, return=16.200]\n",
      "Iteration 1: 100%|██████████| 20/20 [00:00<00:00, 40.49it/s, episode=40, return=14.200]\n",
      "Iteration 2: 100%|██████████| 20/20 [00:00<00:00, 37.29it/s, episode=60, return=9.500] \n",
      "Iteration 3: 100%|██████████| 20/20 [00:00<00:00, 35.39it/s, episode=80, return=10.300]\n",
      "Iteration 4: 100%|██████████| 20/20 [00:05<00:00,  3.41it/s, episode=100, return=171.000]\n",
      "Iteration 5: 100%|██████████| 20/20 [00:09<00:00,  2.07it/s, episode=120, return=181.400]\n",
      "Iteration 6: 100%|██████████| 20/20 [00:10<00:00,  1.93it/s, episode=140, return=194.300]\n",
      "Iteration 7: 100%|██████████| 20/20 [00:11<00:00,  1.77it/s, episode=160, return=199.200]\n",
      "Iteration 8: 100%|██████████| 20/20 [00:10<00:00,  1.91it/s, episode=180, return=195.400]\n",
      "Iteration 9: 100%|██████████| 20/20 [00:11<00:00,  1.80it/s, episode=200, return=156.100]\n"
     ]
    }
   ],
   "source": [
    "return_list = rl_utils.train_off_policy_agent(env,\n",
    "                                              agent,\n",
    "                                              num_episodes,\n",
    "                                              replay_buffer,\n",
    "                                              minimal_size,\n",
    "                                              batch_size)"
   ]
  },
  {
   "cell_type": "code",
   "execution_count": 57,
   "id": "ce357f07",
   "metadata": {},
   "outputs": [
    {
     "data": {
      "image/png": "[encoded data removed]",
      "text/plain": [
       "<Figure size 640x480 with 1 Axes>"
      ]
     },
     "metadata": {},
     "output_type": "display_data"
    }
   ],
   "source": [
    "mv_return = rl_utils.moving_average(return_list, 9)\n",
    "plt.plot(return_list, label='Return')\n",
    "plt.plot(mv_return, label='Moving Average Return')\n",
    "plt.legend()\n",
    "plt.xlabel('Episode')\n",
    "plt.ylabel('Return')\n",
    "plt.title('SAC on {}'.format(env_name))\n",
    "plt.show()"
   ]
  },
  {
   "cell_type": "code",
   "execution_count": 50,
   "id": "8c16095d",
   "metadata": {},
   "outputs": [],
   "source": [
    "rl_utils.watch_agent(env_name,\n",
    "                     agent,\n",
    "                     device,\n",
    "                     num_episodes=1)"
   ]
  },
  {
   "cell_type": "code",
   "execution_count": 58,
   "id": "dc51cd41",
   "metadata": {},
   "outputs": [
    {
     "name": "stdout",
     "output_type": "stream",
     "text": [
      "156.1\n"
     ]
    }
   ],
   "source": [
    "score = rl_utils.moving_average_score(return_list)\n",
    "print(score)"
   ]
  },
  {
   "cell_type": "code",
   "execution_count": 59,
   "id": "41bffd45",
   "metadata": {},
   "outputs": [
    {
     "name": "stdout",
     "output_type": "stream",
     "text": [
      "MoviePy - Building file ./video/sac_cartpole(v0)_r1_score156.10_20250503-184813.gif with imageio.\n"
     ]
    },
    {
     "name": "stderr",
     "output_type": "stream",
     "text": [
      "                                                                         \r"
     ]
    },
    {
     "name": "stdout",
     "output_type": "stream",
     "text": [
      "✅ Video saved at ./video/sac_cartpole(v0)_r1_score156.10_20250503-184813.gif\n",
      "MoviePy - Building file ./video/sac_cartpole(v0)_r10_score156.10_20250503-184815.gif with imageio.\n"
     ]
    },
    {
     "name": "stderr",
     "output_type": "stream",
     "text": [
      "                                                                        \r"
     ]
    },
    {
     "name": "stdout",
     "output_type": "stream",
     "text": [
      "✅ Video saved at ./video/sac_cartpole(v0)_r10_score156.10_20250503-184815.gif\n"
     ]
    }
   ],
   "source": [
    "rl_utils.record_multiple_episodes(env_name,\n",
    "                                  agent,\n",
    "                                  device,\n",
    "                                  num_episodes=1,\n",
    "                                  videos_per_row=1,\n",
    "                                  filename='sac_cartpole(v0)_r1',\n",
    "                                  score=score)\n",
    "rl_utils.record_multiple_episodes(env_name,\n",
    "                                  agent,\n",
    "                                  device,\n",
    "                                  num_episodes=10,\n",
    "                                  videos_per_row=5,\n",
    "                                  filename='sac_cartpole(v0)_r10',\n",
    "                                  score=score)"
   ]
  },
  {
   "cell_type": "code",
   "execution_count": 60,
   "id": "bb9e4ace",
   "metadata": {},
   "outputs": [
    {
     "name": "stdout",
     "output_type": "stream",
     "text": [
      "✅ Multi-agents saved at ./agent/sac_cartpole(v0)_score156.10_20250503-184850.pth\n",
      "📝 Save log updated at ./agent/save_log.json\n",
      "✅ Return list saved at ./results/sac_cartpole(v0)_score156.10_20250503-184850_return_list.pkl\n",
      "📈 Return curve saved at ./results/sac_cartpole(v0)_score156.10_20250503-184850_return_curve.png\n"
     ]
    }
   ],
   "source": [
    "agent_dict = {\n",
    "    'actor': agent.actor,\n",
    "    'critic_1': agent.critic_1,\n",
    "    'critic_2': agent.critic_2,\n",
    "    'target_critic_1': agent.target_critic_1,\n",
    "    'target_critic_2': agent.target_critic_2\n",
    "}\n",
    "rl_utils.save_all(agent_dict=agent_dict,\n",
    "                  return_list=return_list,\n",
    "                  model_name='sac_cartpole(v0)',\n",
    "                  mv_return=mv_return,\n",
    "                  score=score)"
   ]
  }
 ],
 "metadata": {
  "kernelspec": {
   "display_name": "base",
   "language": "python",
   "name": "python3"
  },
  "language_info": {
   "codemirror_mode": {
    "name": "ipython",
    "version": 3
   },
   "file_extension": ".py",
   "mimetype": "text/x-python",
   "name": "python",
   "nbconvert_exporter": "python",
   "pygments_lexer": "ipython3",
   "version": "3.10.13"
  }
 },
 "nbformat": 4,
 "nbformat_minor": 5
}
